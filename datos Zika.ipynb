{
 "cells": [
  {
   "cell_type": "code",
   "execution_count": 1,
   "metadata": {},
   "outputs": [],
   "source": [
    "import pandas as pd\n",
    "import numpy as np\n",
    "import re"
   ]
  },
  {
   "cell_type": "code",
   "execution_count": 2,
   "metadata": {
    "scrolled": true
   },
   "outputs": [],
   "source": [
    "df_sika_original = pd.read_csv('cdc_zika.csv', low_memory=False)"
   ]
  },
  {
   "cell_type": "code",
   "execution_count": 3,
   "metadata": {},
   "outputs": [],
   "source": [
    "df = df_sika_original.drop(columns=['time_period','time_period_type'])\n",
    "df = df.astype('str')\n",
    "df_codes= pd.read_excel('countries_codes.xlsx')\n",
    "df_codes.set_index(['Alfa-2'],inplace=True)"
   ]
  },
  {
   "cell_type": "code",
   "execution_count": 4,
   "metadata": {},
   "outputs": [
    {
     "data": {
      "text/plain": [
       "report_date        object\n",
       "location           object\n",
       "location_type      object\n",
       "data_field         object\n",
       "data_field_code    object\n",
       "value              object\n",
       "unit               object\n",
       "dtype: object"
      ]
     },
     "execution_count": 4,
     "metadata": {},
     "output_type": "execute_result"
    }
   ],
   "source": [
    "df.dtypes"
   ]
  },
  {
   "cell_type": "code",
   "execution_count": 5,
   "metadata": {},
   "outputs": [
    {
     "data": {
      "text/plain": [
       "Index(['report_date', 'location', 'location_type', 'data_field',\n",
       "       'data_field_code', 'value', 'unit'],\n",
       "      dtype='object')"
      ]
     },
     "execution_count": 5,
     "metadata": {},
     "output_type": "execute_result"
    }
   ],
   "source": [
    "df.columns"
   ]
  },
  {
   "cell_type": "code",
   "execution_count": 6,
   "metadata": {},
   "outputs": [
    {
     "data": {
      "text/plain": [
       "Index(['Nombre del país', 'ISO 3166-1', 'Alfa-3'], dtype='object')"
      ]
     },
     "execution_count": 6,
     "metadata": {},
     "output_type": "execute_result"
    }
   ],
   "source": [
    "df_codes.columns"
   ]
  },
  {
   "cell_type": "code",
   "execution_count": 7,
   "metadata": {},
   "outputs": [],
   "source": [
    "df = df[df['report_date'] != 'nan'].copy()\n",
    "df.reset_index(drop=True,inplace=True)"
   ]
  },
  {
   "cell_type": "code",
   "execution_count": 8,
   "metadata": {},
   "outputs": [],
   "source": [
    "df['report_date']= df['report_date'].str.replace('[_-]','-')\n",
    "df['report_date'] = pd.to_datetime(df['report_date'])"
   ]
  },
  {
   "cell_type": "code",
   "execution_count": 9,
   "metadata": {},
   "outputs": [],
   "source": [
    "df['country']= df['location'].str.split('-').apply(lambda x: ' '.join(x[0].split('_')))"
   ]
  },
  {
   "cell_type": "code",
   "execution_count": 10,
   "metadata": {},
   "outputs": [],
   "source": [
    "def remove_under_line(x):\n",
    "    array= x.split('_')\n",
    "    return ' '.join(array)"
   ]
  },
  {
   "cell_type": "code",
   "execution_count": 11,
   "metadata": {},
   "outputs": [],
   "source": [
    "df['location']=(\n",
    "    df['location']\n",
    "    .apply(lambda x:' '.join(x.split('-')))\n",
    "    .apply(remove_under_line)\n",
    ")"
   ]
  },
  {
   "cell_type": "code",
   "execution_count": 12,
   "metadata": {},
   "outputs": [],
   "source": [
    "df['data_field']= df['data_field'].apply(remove_under_line)"
   ]
  },
  {
   "cell_type": "code",
   "execution_count": 13,
   "metadata": {},
   "outputs": [],
   "source": [
    "def elimina_asteriscos(x):\n",
    "    if(x.find('*')>0):\n",
    "        return 0.0\n",
    "    else:\n",
    "        return x"
   ]
  },
  {
   "cell_type": "code",
   "execution_count": 14,
   "metadata": {},
   "outputs": [],
   "source": [
    "df['value']= df['value'].apply(elimina_asteriscos)"
   ]
  },
  {
   "cell_type": "code",
   "execution_count": 15,
   "metadata": {},
   "outputs": [],
   "source": [
    "df['value']=pd.to_numeric(df['value'],errors='coerce')"
   ]
  },
  {
   "cell_type": "code",
   "execution_count": 16,
   "metadata": {},
   "outputs": [],
   "source": [
    "def define_country(data_code):\n",
    "    alpha_code = data_code[:2]\n",
    "    if(alpha_code == 'HA'):\n",
    "        alpha_code = 'HT'\n",
    "    return df_codes.loc[alpha_code]['Nombre del país']"
   ]
  },
  {
   "cell_type": "code",
   "execution_count": 17,
   "metadata": {},
   "outputs": [],
   "source": [
    "df['country']= df['data_field_code'].apply(define_country)"
   ]
  },
  {
   "cell_type": "code",
   "execution_count": 21,
   "metadata": {},
   "outputs": [],
   "source": [
    "df.to_csv('zika_cleaded.csv',index=False)"
   ]
  },
  {
   "cell_type": "code",
   "execution_count": 22,
   "metadata": {},
   "outputs": [
    {
     "data": {
      "text/plain": [
       "Index(['report_date', 'location', 'location_type', 'data_field',\n",
       "       'data_field_code', 'value', 'unit', 'country'],\n",
       "      dtype='object')"
      ]
     },
     "execution_count": 22,
     "metadata": {},
     "output_type": "execute_result"
    }
   ],
   "source": [
    "df.columns"
   ]
  },
  {
   "cell_type": "code",
   "execution_count": 56,
   "metadata": {},
   "outputs": [],
   "source": [
    "df_filtered= df[~df['data_field'].str.contains('not|no')]\n",
    "df_filtered.reset_index(drop=True,inplace=True)"
   ]
  },
  {
   "cell_type": "code",
   "execution_count": 76,
   "metadata": {},
   "outputs": [
    {
     "data": {
      "text/plain": [
       "array(['cumulative confirmed imported cases',\n",
       "       'cumulative probable imported cases', 'zika reported',\n",
       "       'zika confirmed laboratory', 'zika confirmed clinic',\n",
       "       'total zika new confirmed pcr', 'zika new confirmed pcr f',\n",
       "       'zika new confirmed pcr m', 'efe reported',\n",
       "       'zika confirmed pcr cumulative',\n",
       "       'zika confirmed pregnant cumulative',\n",
       "       'total zika confirmed cumulative', 'total zika confirmed imported',\n",
       "       'total zika confirmed pregnant',\n",
       "       'total zika confirmed ages 0-11mo F',\n",
       "       'total zika confirmed ages 0-11mo M',\n",
       "       'total zika confirmed ages 1-4yrs F',\n",
       "       'total zika confirmed ages 1-4yrs M',\n",
       "       'total zika confirmed ages 5-9yrs F',\n",
       "       'total zika confirmed ages 5-9yrs M',\n",
       "       'total zika confirmed ages 10-14yrs F',\n",
       "       'total zika confirmed ages 10-14yrs M',\n",
       "       'total zika confirmed ages 15-19yrs F',\n",
       "       'total zika confirmed ages 15-19yrs M',\n",
       "       'total zika confirmed ages 20-49yrs F',\n",
       "       'total zika confirmed ages 20-49yrs M',\n",
       "       'total zika confirmed ages 50-64yrs F',\n",
       "       'total zika confirmed ages 50-64yrs M',\n",
       "       'total zika confirmed ages over65 F',\n",
       "       'total zika confirmed ages over65 M',\n",
       "       'total zika confirmed Not-Aplicable', 'weekly hospitalized',\n",
       "       'cumulative confirmed', 'total zika confirmed',\n",
       "       'total zika confirmed F', 'total zika confirmed M',\n",
       "       'total zika confirmed pregnant cumulative',\n",
       "       'weekly zika confirmed', 'Zika confirmed laboratory 2015',\n",
       "       'Zika confirmed laboratory 2016', 'Zika confirmed F',\n",
       "       'Zika confirmed M', 'confirmed age under 1', 'confirmed age 1-4',\n",
       "       'confirmed age 5-9', 'confirmed age 10-14', 'confirmed age 15-19',\n",
       "       'confirmed age 20-24', 'confirmed age 25-34',\n",
       "       'confirmed age 35-49', 'confirmed age 50-59',\n",
       "       'confirmed age 60-64', 'confirmed age 60 plus',\n",
       "       'weekly Zika confirmed asymptomatic',\n",
       "       'weekly Zika confirmed pending', 'weekly Zika confirmed imported',\n",
       "       'Zika positive pregnant', 'Zika negative pregnant',\n",
       "       'zika confirmed 2weeks', 'zika confirmed cumulative 2016',\n",
       "       'flavi confirmed cumulative 2016',\n",
       "       'zika confirmed cumulative 2015-2016',\n",
       "       'zika confirmed pregnant cumulative 2015-2016',\n",
       "       'zika confirmed pregnant symptomatic cumulative 2015-2016',\n",
       "       'zika confirmed pregnant asymptomatic cumulative 2015-2016',\n",
       "       'GBS reported cumulative 2015-2016', 'zika confirmed 4weeks',\n",
       "       'GBS reported cumulative 2015-2016 zika',\n",
       "       'GBS reported cumulative 2015-2016 flavi',\n",
       "       'congenital developmental defects reported cummulative 2015-2016',\n",
       "       'congenital developmental defects reported cumulative 2015-2016',\n",
       "       'zika reported travel', 'yearly reported travel cases',\n",
       "       'zika lab positive', 'zika pending', 'confirmed age under20',\n",
       "       'confirmed age 20to39', 'confirmed age 40to59',\n",
       "       'confirmed age over59', 'confirmed age unk'], dtype=object)"
      ]
     },
     "execution_count": 76,
     "metadata": {},
     "output_type": "execute_result"
    }
   ],
   "source": [
    "substrings=[\n",
    "    'rash',\n",
    "    'arthritis',\n",
    "    'arthralgia',\n",
    "    'fever',\n",
    "    'conjunctivitis',\n",
    "    'eyepain',\n",
    "    'headache',\n",
    "    'malaise',\n",
    "    'male',\n",
    "    'local',\n",
    "    'discarded',\n",
    "    'microcephaly',\n",
    "    'suspected',\n",
    "    'study',\n",
    "    'gbs'\n",
    "] \n",
    "(df_filtered[~df_filtered['data_field']\n",
    "             .str.contains('|'.join(substrings))]['data_field']\n",
    "             .unique()\n",
    ")"
   ]
  },
  {
   "cell_type": "code",
   "execution_count": null,
   "metadata": {},
   "outputs": [],
   "source": []
  }
 ],
 "metadata": {
  "kernelspec": {
   "display_name": "Python 3",
   "language": "python",
   "name": "python3"
  },
  "language_info": {
   "codemirror_mode": {
    "name": "ipython",
    "version": 3
   },
   "file_extension": ".py",
   "mimetype": "text/x-python",
   "name": "python",
   "nbconvert_exporter": "python",
   "pygments_lexer": "ipython3",
   "version": "3.8.6"
  }
 },
 "nbformat": 4,
 "nbformat_minor": 4
}
