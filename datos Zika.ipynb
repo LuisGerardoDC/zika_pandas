{
 "cells": [
  {
   "cell_type": "code",
   "execution_count": 1,
   "metadata": {},
   "outputs": [],
   "source": [
    "import pandas as pd\n",
    "import numpy as np\n",
    "import matplotlib.pyplot as plt "
   ]
  },
  {
   "cell_type": "code",
   "execution_count": 2,
   "metadata": {
    "scrolled": true
   },
   "outputs": [],
   "source": [
    "df_sika_original = pd.read_csv('cdc_zika.csv', low_memory=False)"
   ]
  },
  {
   "cell_type": "code",
   "execution_count": 3,
   "metadata": {},
   "outputs": [],
   "source": [
    "df = df_sika_original.drop(columns=['time_period','time_period_type'])\n",
    "df = df.astype('str')\n",
    "df_codes= pd.read_excel('countries_codes.xlsx')\n",
    "df_codes.set_index(['Alfa-2'],inplace=True)"
   ]
  },
  {
   "cell_type": "code",
   "execution_count": 4,
   "metadata": {},
   "outputs": [
    {
     "data": {
      "text/plain": [
       "report_date        object\n",
       "location           object\n",
       "location_type      object\n",
       "data_field         object\n",
       "data_field_code    object\n",
       "value              object\n",
       "unit               object\n",
       "dtype: object"
      ]
     },
     "execution_count": 4,
     "metadata": {},
     "output_type": "execute_result"
    }
   ],
   "source": [
    "df.dtypes"
   ]
  },
  {
   "cell_type": "code",
   "execution_count": 5,
   "metadata": {},
   "outputs": [
    {
     "data": {
      "text/plain": [
       "Index(['report_date', 'location', 'location_type', 'data_field',\n",
       "       'data_field_code', 'value', 'unit'],\n",
       "      dtype='object')"
      ]
     },
     "execution_count": 5,
     "metadata": {},
     "output_type": "execute_result"
    }
   ],
   "source": [
    "df.columns"
   ]
  },
  {
   "cell_type": "code",
   "execution_count": 6,
   "metadata": {},
   "outputs": [
    {
     "data": {
      "text/plain": [
       "Index(['Nombre del país', 'ISO 3166-1', 'Alfa-3'], dtype='object')"
      ]
     },
     "execution_count": 6,
     "metadata": {},
     "output_type": "execute_result"
    }
   ],
   "source": [
    "df_codes.columns"
   ]
  },
  {
   "cell_type": "code",
   "execution_count": 7,
   "metadata": {},
   "outputs": [],
   "source": [
    "df = df[df['report_date'] != 'nan'].copy()\n",
    "df.reset_index(drop=True,inplace=True)"
   ]
  },
  {
   "cell_type": "code",
   "execution_count": 8,
   "metadata": {},
   "outputs": [],
   "source": [
    "df['report_date']= df['report_date'].str.replace('[_-]','-')\n",
    "df['report_date'] = pd.to_datetime(df['report_date'])"
   ]
  },
  {
   "cell_type": "code",
   "execution_count": 9,
   "metadata": {},
   "outputs": [],
   "source": [
    "df['country']= df['location'].str.split('-').apply(lambda x: ' '.join(x[0].split('_')))"
   ]
  },
  {
   "cell_type": "code",
   "execution_count": 10,
   "metadata": {},
   "outputs": [],
   "source": [
    "def remove_under_line(x):\n",
    "    array= x.split('_')\n",
    "    return ' '.join(array)"
   ]
  },
  {
   "cell_type": "code",
   "execution_count": 11,
   "metadata": {},
   "outputs": [],
   "source": [
    "df['location']=(\n",
    "    df['location']\n",
    "    .apply(lambda x:' '.join(x.split('-')))\n",
    "    .apply(remove_under_line)\n",
    ")"
   ]
  },
  {
   "cell_type": "code",
   "execution_count": 12,
   "metadata": {},
   "outputs": [],
   "source": [
    "df['data_field']= df['data_field'].apply(remove_under_line).str.lower()"
   ]
  },
  {
   "cell_type": "code",
   "execution_count": 13,
   "metadata": {},
   "outputs": [],
   "source": [
    "def elimina_asteriscos(x):\n",
    "    if(x.find('*')>0):\n",
    "        return 0.0\n",
    "    else:\n",
    "        return x"
   ]
  },
  {
   "cell_type": "code",
   "execution_count": 14,
   "metadata": {},
   "outputs": [],
   "source": [
    "df['value']= df['value'].apply(elimina_asteriscos)"
   ]
  },
  {
   "cell_type": "code",
   "execution_count": 15,
   "metadata": {},
   "outputs": [],
   "source": [
    "df['value']=pd.to_numeric(df['value'],errors='coerce')"
   ]
  },
  {
   "cell_type": "code",
   "execution_count": 16,
   "metadata": {},
   "outputs": [],
   "source": [
    "def define_country(data_code):\n",
    "    alpha_code = data_code[:2]\n",
    "    if(alpha_code == 'HA'):\n",
    "        alpha_code = 'HT'\n",
    "    return df_codes.loc[alpha_code]['Nombre del país']"
   ]
  },
  {
   "cell_type": "code",
   "execution_count": 17,
   "metadata": {},
   "outputs": [],
   "source": [
    "df['country']= df['data_field_code'].apply(define_country)"
   ]
  },
  {
   "cell_type": "code",
   "execution_count": 18,
   "metadata": {},
   "outputs": [],
   "source": [
    "df.to_csv('zika_cleaded.csv',index=False)"
   ]
  },
  {
   "cell_type": "code",
   "execution_count": 19,
   "metadata": {},
   "outputs": [
    {
     "data": {
      "text/plain": [
       "Index(['report_date', 'location', 'location_type', 'data_field',\n",
       "       'data_field_code', 'value', 'unit', 'country'],\n",
       "      dtype='object')"
      ]
     },
     "execution_count": 19,
     "metadata": {},
     "output_type": "execute_result"
    }
   ],
   "source": [
    "df.columns"
   ]
  },
  {
   "cell_type": "code",
   "execution_count": 20,
   "metadata": {},
   "outputs": [
    {
     "data": {
      "text/plain": [
       "0            cumulative confirmed local cases\n",
       "1             cumulative probable local cases\n",
       "2         cumulative confirmed imported cases\n",
       "3          cumulative probable imported cases\n",
       "4                cumulative cases under study\n",
       "                         ...                 \n",
       "107607               confirmed conjunctivitis\n",
       "107608                      confirmed eyepain\n",
       "107609                     confirmed headache\n",
       "107610                      confirmed malaise\n",
       "107611                       zika no specimen\n",
       "Name: data_field, Length: 107612, dtype: object"
      ]
     },
     "execution_count": 20,
     "metadata": {},
     "output_type": "execute_result"
    }
   ],
   "source": [
    "df['data_field']"
   ]
  },
  {
   "cell_type": "code",
   "execution_count": 21,
   "metadata": {},
   "outputs": [
    {
     "data": {
      "text/html": [
       "<div>\n",
       "<style scoped>\n",
       "    .dataframe tbody tr th:only-of-type {\n",
       "        vertical-align: middle;\n",
       "    }\n",
       "\n",
       "    .dataframe tbody tr th {\n",
       "        vertical-align: top;\n",
       "    }\n",
       "\n",
       "    .dataframe thead th {\n",
       "        text-align: right;\n",
       "    }\n",
       "</style>\n",
       "<table border=\"1\" class=\"dataframe\">\n",
       "  <thead>\n",
       "    <tr style=\"text-align: right;\">\n",
       "      <th></th>\n",
       "      <th>report_date</th>\n",
       "      <th>location</th>\n",
       "      <th>location_type</th>\n",
       "      <th>data_field</th>\n",
       "      <th>data_field_code</th>\n",
       "      <th>value</th>\n",
       "      <th>unit</th>\n",
       "      <th>country</th>\n",
       "    </tr>\n",
       "  </thead>\n",
       "  <tbody>\n",
       "    <tr>\n",
       "      <th>0</th>\n",
       "      <td>2016-03-19</td>\n",
       "      <td>Argentina Buenos Aires</td>\n",
       "      <td>province</td>\n",
       "      <td>cumulative confirmed local cases</td>\n",
       "      <td>AR0001</td>\n",
       "      <td>0.0</td>\n",
       "      <td>cases</td>\n",
       "      <td>Argentina</td>\n",
       "    </tr>\n",
       "    <tr>\n",
       "      <th>1</th>\n",
       "      <td>2016-03-19</td>\n",
       "      <td>Argentina Buenos Aires</td>\n",
       "      <td>province</td>\n",
       "      <td>cumulative probable local cases</td>\n",
       "      <td>AR0002</td>\n",
       "      <td>0.0</td>\n",
       "      <td>cases</td>\n",
       "      <td>Argentina</td>\n",
       "    </tr>\n",
       "    <tr>\n",
       "      <th>2</th>\n",
       "      <td>2016-03-19</td>\n",
       "      <td>Argentina Buenos Aires</td>\n",
       "      <td>province</td>\n",
       "      <td>cumulative confirmed imported cases</td>\n",
       "      <td>AR0003</td>\n",
       "      <td>2.0</td>\n",
       "      <td>cases</td>\n",
       "      <td>Argentina</td>\n",
       "    </tr>\n",
       "    <tr>\n",
       "      <th>3</th>\n",
       "      <td>2016-03-19</td>\n",
       "      <td>Argentina Buenos Aires</td>\n",
       "      <td>province</td>\n",
       "      <td>cumulative probable imported cases</td>\n",
       "      <td>AR0004</td>\n",
       "      <td>1.0</td>\n",
       "      <td>cases</td>\n",
       "      <td>Argentina</td>\n",
       "    </tr>\n",
       "    <tr>\n",
       "      <th>4</th>\n",
       "      <td>2016-03-19</td>\n",
       "      <td>Argentina Buenos Aires</td>\n",
       "      <td>province</td>\n",
       "      <td>cumulative cases under study</td>\n",
       "      <td>AR0005</td>\n",
       "      <td>127.0</td>\n",
       "      <td>cases</td>\n",
       "      <td>Argentina</td>\n",
       "    </tr>\n",
       "  </tbody>\n",
       "</table>\n",
       "</div>"
      ],
      "text/plain": [
       "  report_date                location location_type  \\\n",
       "0  2016-03-19  Argentina Buenos Aires      province   \n",
       "1  2016-03-19  Argentina Buenos Aires      province   \n",
       "2  2016-03-19  Argentina Buenos Aires      province   \n",
       "3  2016-03-19  Argentina Buenos Aires      province   \n",
       "4  2016-03-19  Argentina Buenos Aires      province   \n",
       "\n",
       "                            data_field data_field_code  value   unit  \\\n",
       "0     cumulative confirmed local cases          AR0001    0.0  cases   \n",
       "1      cumulative probable local cases          AR0002    0.0  cases   \n",
       "2  cumulative confirmed imported cases          AR0003    2.0  cases   \n",
       "3   cumulative probable imported cases          AR0004    1.0  cases   \n",
       "4         cumulative cases under study          AR0005  127.0  cases   \n",
       "\n",
       "     country  \n",
       "0  Argentina  \n",
       "1  Argentina  \n",
       "2  Argentina  \n",
       "3  Argentina  \n",
       "4  Argentina  "
      ]
     },
     "execution_count": 21,
     "metadata": {},
     "output_type": "execute_result"
    }
   ],
   "source": [
    "df_filtered= df[~df['data_field'].str.contains('not|no')]\n",
    "df_filtered.reset_index(drop=True,inplace=True)\n",
    "df_filtered.head(5)"
   ]
  },
  {
   "cell_type": "code",
   "execution_count": 22,
   "metadata": {},
   "outputs": [
    {
     "data": {
      "text/plain": [
       "array(['cumulative confirmed imported cases',\n",
       "       'cumulative probable imported cases', 'zika reported',\n",
       "       'zika confirmed laboratory', 'zika confirmed clinic',\n",
       "       'total zika new confirmed pcr', 'zika new confirmed pcr f',\n",
       "       'zika new confirmed pcr m', 'zika confirmed pcr cumulative',\n",
       "       'zika confirmed pregnant cumulative',\n",
       "       'total zika confirmed cumulative', 'total zika confirmed imported',\n",
       "       'total zika confirmed pregnant',\n",
       "       'total zika confirmed ages 0-11mo f',\n",
       "       'total zika confirmed ages 0-11mo m',\n",
       "       'total zika confirmed ages 1-4yrs f',\n",
       "       'total zika confirmed ages 1-4yrs m',\n",
       "       'total zika confirmed ages 5-9yrs f',\n",
       "       'total zika confirmed ages 5-9yrs m',\n",
       "       'total zika confirmed ages 10-14yrs f',\n",
       "       'total zika confirmed ages 10-14yrs m',\n",
       "       'total zika confirmed ages 15-19yrs f',\n",
       "       'total zika confirmed ages 15-19yrs m',\n",
       "       'total zika confirmed ages 20-49yrs f',\n",
       "       'total zika confirmed ages 20-49yrs m',\n",
       "       'total zika confirmed ages 50-64yrs f',\n",
       "       'total zika confirmed ages 50-64yrs m',\n",
       "       'total zika confirmed ages over65 f',\n",
       "       'total zika confirmed ages over65 m', 'cumulative confirmed',\n",
       "       'total zika confirmed', 'total zika confirmed f',\n",
       "       'total zika confirmed m',\n",
       "       'total zika confirmed pregnant cumulative',\n",
       "       'weekly zika confirmed', 'zika confirmed f', 'zika confirmed m',\n",
       "       'confirmed age under 1', 'confirmed age 1-4', 'confirmed age 5-9',\n",
       "       'confirmed age 10-14', 'confirmed age 15-19',\n",
       "       'confirmed age 20-24', 'confirmed age 25-34',\n",
       "       'confirmed age 35-49', 'confirmed age 50-59',\n",
       "       'confirmed age 60-64', 'confirmed age 60 plus',\n",
       "       'weekly zika confirmed asymptomatic',\n",
       "       'weekly zika confirmed imported', 'zika positive pregnant',\n",
       "       'zika negative pregnant', 'zika confirmed 2weeks',\n",
       "       'zika confirmed 4weeks', 'zika reported travel',\n",
       "       'yearly reported travel cases', 'zika lab positive',\n",
       "       'confirmed age under20', 'confirmed age 20to39',\n",
       "       'confirmed age 40to59', 'confirmed age over59',\n",
       "       'confirmed age unk'], dtype=object)"
      ]
     },
     "execution_count": 22,
     "metadata": {},
     "output_type": "execute_result"
    }
   ],
   "source": [
    "substrings=[\n",
    "    'rash',\n",
    "    'arthritis',\n",
    "    'arthralgia',\n",
    "    'fever',\n",
    "    'conjunctivitis',\n",
    "    'eyepain',\n",
    "    'headache',\n",
    "    'malaise',\n",
    "    'male',\n",
    "    'local',\n",
    "    'discarded',\n",
    "    'microcephaly',\n",
    "    'suspected',\n",
    "    'study',\n",
    "    'gbs',\n",
    "    'pending',\n",
    "    'efe',\n",
    "    'hospitalized',\n",
    "    '201'\n",
    "] \n",
    "(df_filtered[~df_filtered['data_field']\n",
    "             .str.contains('|'.join(substrings))]['data_field']\n",
    "             .unique()\n",
    ")"
   ]
  },
  {
   "cell_type": "code",
   "execution_count": 23,
   "metadata": {},
   "outputs": [],
   "source": [
    "df_filtered=(df_filtered[~df_filtered['data_field'].str.contains('|'.join(substrings))])"
   ]
  },
  {
   "cell_type": "code",
   "execution_count": 25,
   "metadata": {},
   "outputs": [
    {
     "data": {
      "text/plain": [
       "country\n",
       "Argentina                                              378.0\n",
       "Panamá                                                 408.0\n",
       "El Salvador                                            472.0\n",
       "México                                                 565.0\n",
       "Guatemala                                             1578.0\n",
       "República Dominicana                                  2376.0\n",
       "Nicaragua                                             4669.0\n",
       "Puerto Rico                                           5579.0\n",
       "Ecuador                                               5839.0\n",
       "Islas Vírgenes de los Estados Unidos de América       8089.0\n",
       "Estados Unidos de América                             8933.0\n",
       "Colombia                                            443745.0\n",
       "Brasil                                             2777196.0\n",
       "Name: value, dtype: float64"
      ]
     },
     "execution_count": 25,
     "metadata": {},
     "output_type": "execute_result"
    }
   ],
   "source": [
    "zika_countries=df_filtered.groupby(['country'])['value'].sum().sort_values()\n",
    "zika_countries"
   ]
  },
  {
   "cell_type": "code",
   "execution_count": 43,
   "metadata": {},
   "outputs": [
    {
     "data": {
      "text/plain": [
       "location\n",
       "Brazil Roraima                   481.0\n",
       "Brazil Santa Catarina            630.0\n",
       "Brazil Piaui                     719.0\n",
       "Brazil Amapa                     918.0\n",
       "Brazil Rio Grande do Sul        2075.0\n",
       "Brazil Distrito Federal         2152.0\n",
       "Brazil Pernambuco               3031.0\n",
       "Brazil Sergipe                  3162.0\n",
       "Brazil Mato Grosso do Sul       4023.0\n",
       "Brazil Acre                     5235.0\n",
       "Brazil Rondonia                 6110.0\n",
       "Brazil Ceara                    6820.0\n",
       "Brazil Para                     9438.0\n",
       "Brazil Rio Grande do Norte     11344.0\n",
       "Brazil Espirito Santo          13138.0\n",
       "Brazil Parana                  13448.0\n",
       "Brazil Maranhao                13643.0\n",
       "Brazil Amazonas                14556.0\n",
       "Brazil Paraiba                 15497.0\n",
       "Sul                            16153.0\n",
       "Brazil Alagoas                 16896.0\n",
       "Brazil Goias                   17484.0\n",
       "Brazil Tocantins               20041.0\n",
       "Brazil Sao Paulo               22958.0\n",
       "Norte                          56779.0\n",
       "Brazil Minas Gerais            73508.0\n",
       "Brazil Mato Grosso            126013.0\n",
       "Centro Oeste                  149672.0\n",
       "Brazil Rio de Janeiro         256489.0\n",
       "Brazil Bahia                  265923.0\n",
       "Nordeste                      337035.0\n",
       "Sudeste                       366093.0\n",
       "Brazil                        925732.0\n",
       "Name: value, dtype: float64"
      ]
     },
     "execution_count": 43,
     "metadata": {},
     "output_type": "execute_result"
    }
   ],
   "source": [
    "df_filtered_brazil= df_filtered[df_filtered['country'] == 'Brasil']\n",
    "zika_locations_brazil= df_filtered_brazil.groupby('location')['value'].sum().sort_values()\n",
    "zika_locations_brazil"
   ]
  },
  {
   "cell_type": "code",
   "execution_count": 44,
   "metadata": {},
   "outputs": [
    {
     "data": {
      "text/plain": [
       "report_date\n",
       "2015-11-28       2.0\n",
       "2015-12-05       0.0\n",
       "2015-12-09      58.0\n",
       "2015-12-12       0.0\n",
       "2015-12-16      58.0\n",
       "               ...  \n",
       "2016-06-25    8613.0\n",
       "2016-06-26      19.0\n",
       "2016-06-28     739.0\n",
       "2016-06-29    2386.0\n",
       "2016-07-01     595.0\n",
       "Name: value, Length: 115, dtype: float64"
      ]
     },
     "execution_count": 44,
     "metadata": {},
     "output_type": "execute_result"
    }
   ],
   "source": [
    "df_filtered.groupby('report_date')['value'].sum()"
   ]
  },
  {
   "cell_type": "code",
   "execution_count": null,
   "metadata": {},
   "outputs": [],
   "source": []
  }
 ],
 "metadata": {
  "kernelspec": {
   "display_name": "Python 3",
   "language": "python",
   "name": "python3"
  },
  "language_info": {
   "codemirror_mode": {
    "name": "ipython",
    "version": 3
   },
   "file_extension": ".py",
   "mimetype": "text/x-python",
   "name": "python",
   "nbconvert_exporter": "python",
   "pygments_lexer": "ipython3",
   "version": "3.8.6"
  }
 },
 "nbformat": 4,
 "nbformat_minor": 4
}
